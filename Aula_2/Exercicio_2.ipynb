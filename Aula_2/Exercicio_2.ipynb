{
 "cells": [
  {
   "cell_type": "markdown",
   "metadata": {},
   "source": [
    "Ecercicio sobre classes"
   ]
  },
  {
   "cell_type": "code",
   "execution_count": 57,
   "metadata": {},
   "outputs": [],
   "source": [
    "class Autor():\n",
    "  #construtor possui o nome __init__\n",
    "  def __init__(self, primeiro_nome, ultimo_nome, nascimento, segundo_nome = \"\"):\n",
    "    self.primeiro_nome = primeiro_nome\n",
    "    self.segundo_nome = segundo_nome\n",
    "    self.ultimo_nome = ultimo_nome\n",
    "    self.nascimento = nascimento\n",
    "\n",
    "  #método simples\n",
    "  @property\n",
    "  def nome_como_citado(self):\n",
    "    return f\"{self.ultimo_nome.upper()} {self.primeiro_nome[0].upper()}\"\n",
    "  #transforma o objeto numa string ao executar str(objeto)\n",
    "  def __str__(self):\n",
    "    return f\"{self.primeiro_nome} {self.segundo_nome} {self.ultimo_nome}\"\n",
    "  def __repr__(self):\n",
    "    return str(self)"
   ]
  },
  {
   "cell_type": "code",
   "execution_count": 97,
   "metadata": {},
   "outputs": [],
   "source": [
    "class Livro():\n",
    "  #construtor possui o nome __init__\n",
    "  def __init__(self, titulo, ano, autores = []):\n",
    "    self._titulo = titulo\n",
    "    self.ano = ano\n",
    "    self.autores = autores\n",
    "\n",
    "  @property\n",
    "  def titulo(self):\n",
    "    return self._titulo\n",
    "\n",
    "  @titulo.setter\n",
    "  def titulo(self, val):\n",
    "    if val == \"\":\n",
    "        raise ValueError(\"O tituo não pode ficar vazio\")\n",
    "    self.titulo = val\n",
    "    \n",
    "  #transforma o objeto numa string ao executar str(objeto)\n",
    "  def __str__(self):\n",
    "    return f\"{self.titulo} {self.ano} {list(autor.nome_como_citado for autor in self.autores)}\"\n",
    "  def __repr__(self):\n",
    "    return str(self)"
   ]
  },
  {
   "cell_type": "code",
   "execution_count": 126,
   "metadata": {},
   "outputs": [],
   "source": [
    "class Biblioteca():\n",
    "  #construtor possui o nome __init__\n",
    "  def __init__(self, livros = []):\n",
    "    self.livros = livros\n",
    "\n",
    "  @property\n",
    "  def livros_por_autor(self):\n",
    "    dict = {}\n",
    "    for livro in self.livros:\n",
    "        for autor in livro.autores:\n",
    "            if autor in dict:\n",
    "                lista_temp = dict[autor]\n",
    "                lista_temp.append(livro.titulo)\n",
    "                dict[autor] = lista_temp\n",
    "            else:\n",
    "                lista_temp = []\n",
    "                lista_temp.append(livro.titulo)\n",
    "                dict[autor] = lista_temp\n",
    "    return dict\n",
    "\n",
    "  #transforma o objeto numa string ao executar str(objeto)\n",
    "  def __str__(self):\n",
    "    return f\"{list(livro.titulo for livro in self.livros)}\"\n",
    "  def __repr__(self):\n",
    "    return str(self)"
   ]
  },
  {
   "cell_type": "code",
   "execution_count": 127,
   "metadata": {},
   "outputs": [
    {
     "data": {
      "text/plain": [
       "{Pedro ABC Silva: ['As Aventuras do Dragão'],\n",
       " João EFG Rui: ['As Aventuras do Dragão', 'Linda Borboleta']}"
      ]
     },
     "execution_count": 127,
     "metadata": {},
     "output_type": "execute_result"
    }
   ],
   "source": [
    "from datetime import date\n",
    "pedro = Autor(\"Pedro\", \"Silva\", date(2020,6,21), \"ABC\")\n",
    "joao = Autor(\"João\", \"Rui\", date(2010,5,30), \"EFG\")\n",
    "dragao = Livro(\"As Aventuras do Dragão\", 1960, [pedro, joao])\n",
    "borboleta = Livro(\"Linda Borboleta\", 2000, [joao])\n",
    "\n",
    "biblio_a = Biblioteca([dragao, borboleta])\n",
    "biblio_a.livros_por_autor"
   ]
  }
 ],
 "metadata": {
  "kernelspec": {
   "display_name": "Python 3",
   "language": "python",
   "name": "python3"
  },
  "language_info": {
   "codemirror_mode": {
    "name": "ipython",
    "version": 3
   },
   "file_extension": ".py",
   "mimetype": "text/x-python",
   "name": "python",
   "nbconvert_exporter": "python",
   "pygments_lexer": "ipython3",
   "version": "3.7.6"
  }
 },
 "nbformat": 4,
 "nbformat_minor": 4
}
