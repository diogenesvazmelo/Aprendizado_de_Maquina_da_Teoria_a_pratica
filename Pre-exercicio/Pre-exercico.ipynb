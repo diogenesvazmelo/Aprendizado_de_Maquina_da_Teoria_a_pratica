{
 "cells": [
  {
   "cell_type": "markdown",
   "metadata": {},
   "source": [
    "## Funções Simples"
   ]
  },
  {
   "cell_type": "markdown",
   "metadata": {},
   "source": [
    "Este é o pré-exercíco"
   ]
  },
  {
   "cell_type": "markdown",
   "metadata": {},
   "source": [
    "### Realiza a soma de dois numeros"
   ]
  },
  {
   "cell_type": "code",
   "execution_count": 3,
   "metadata": {},
   "outputs": [
    {
     "name": "stdout",
     "output_type": "stream",
     "text": [
      "15\n"
     ]
    }
   ],
   "source": [
    "def add(a,b):\n",
    "  \"\"\"\n",
    "  Realiza a soma de dois numeros\n",
    "  @author: Diógenes Vaz de Melo\n",
    "  \"\"\"\n",
    "  return a+b\n",
    "\n",
    "if __name__ == \"__main__\":\n",
    "  x = add(10, 5)\n",
    "  print(x)"
   ]
  },
  {
   "cell_type": "markdown",
   "metadata": {},
   "source": [
    "### Verifica, entre dois números, qual é o maior"
   ]
  },
  {
   "cell_type": "code",
   "execution_count": 5,
   "metadata": {},
   "outputs": [
    {
     "name": "stdout",
     "output_type": "stream",
     "text": [
      "10\n"
     ]
    }
   ],
   "source": [
    "def maior(a,b):\n",
    "  \"\"\"\n",
    "  Verifica, entre dois números, qual é o maior\n",
    "  @author: Diógenes Vaz de Melo\n",
    "  \"\"\"\n",
    "  if a > b:\n",
    "    return a\n",
    "  else:\n",
    "      return b\n",
    "\n",
    "if __name__ == \"__main__\":\n",
    "  x = maior(10, 5)\n",
    "  print(x)"
   ]
  },
  {
   "cell_type": "markdown",
   "metadata": {},
   "source": [
    "### Retorna o somatório dos valores passados pela lista (sem usar sum()).\n",
    "### O argumento x deve é opcional, se passado será somado ao resultado final."
   ]
  },
  {
   "cell_type": "code",
   "execution_count": 12,
   "metadata": {},
   "outputs": [
    {
     "name": "stdout",
     "output_type": "stream",
     "text": [
      "21\n"
     ]
    }
   ],
   "source": [
    "def soma(lista,x=0):\n",
    "  \"\"\"\n",
    "  Retorna o somatório dos valores passados pela lista (sem usar sum()).\n",
    "  O argumento x deve é opcional, se passado será somado ao resultado final.\n",
    "  @author: Diógenes Vaz de Melo\n",
    "  \"\"\"\n",
    "  lista.append(x)\n",
    "  j=0\n",
    "  for i in lista:\n",
    "    j += i\n",
    "  return j\n",
    "\n",
    "if __name__ == \"__main__\":\n",
    "  lista1 = [4, 2, 0, 10]\n",
    "  x = soma(lista1,5)\n",
    "  print(x)"
   ]
  },
  {
   "cell_type": "markdown",
   "metadata": {},
   "source": [
    "### Retorna a média dos valores passados pela lista."
   ]
  },
  {
   "cell_type": "code",
   "execution_count": 13,
   "metadata": {},
   "outputs": [
    {
     "name": "stdout",
     "output_type": "stream",
     "text": [
      "4.0\n"
     ]
    }
   ],
   "source": [
    "def media(lista):\n",
    "  \"\"\"\n",
    "  Retorna a média dos valores passados pela lista.\n",
    "  @author: Diógenes Vaz de Melo\n",
    "\n",
    "  import statistics\n",
    "  return statistics.mean(lista)\n",
    "  \"\"\"\n",
    "  a = len(lista)\n",
    "  s = soma(lista)\n",
    "  return s / a\n",
    "\n",
    "if __name__ == \"__main__\":\n",
    "  lista1 = [4, 2, 0, 10]\n",
    "  x = media(lista1)\n",
    "  print(x)"
   ]
  },
  {
   "cell_type": "markdown",
   "metadata": {},
   "source": [
    "### Retorna uma lista contendo os valores iguais entre as duas listas passadas como parâmetro."
   ]
  },
  {
   "cell_type": "code",
   "execution_count": 14,
   "metadata": {},
   "outputs": [
    {
     "name": "stdout",
     "output_type": "stream",
     "text": [
      "[]\n"
     ]
    }
   ],
   "source": [
    "def valores_iguais(lista1,lista2):\n",
    "  \"\"\"\n",
    "  Retorna uma lista contendo os valores iguais entre as duas listas passadas como parâmetro.\n",
    "  @author: Diógenes Vaz de Melo\n",
    "  \"\"\"\n",
    "  return list(set(lista1).intersection(lista2))\n",
    "\n",
    "if __name__ == \"__main__\":\n",
    "  lista1 = [4, 2, 0, 10]\n",
    "  lista2 = [5, 6, 3, 5]\n",
    "  x = valores_iguais(lista1, lista2)\n",
    "  print(x)"
   ]
  },
  {
   "cell_type": "markdown",
   "metadata": {},
   "source": [
    "### Retorna a posição na lista1 do primeiro valor igual ao da lista2.\n",
    "### Caso não exista, é retornado None."
   ]
  },
  {
   "cell_type": "code",
   "execution_count": 16,
   "metadata": {},
   "outputs": [
    {
     "name": "stdout",
     "output_type": "stream",
     "text": [
      "None\n"
     ]
    }
   ],
   "source": [
    "def indice_prim_valor_igual(lista1,lista2):\n",
    "  \"\"\"\n",
    "  Retorna a posição na lista1 do primeiro valor igual ao da lista2.\n",
    "  Caso não exista, é retornado None.\n",
    "  @author: Diógenes Vaz de Melo\n",
    "  \"\"\"\n",
    "  temp = set(lista2)\n",
    "  lista3 = [idx for idx, value in enumerate(lista1) if value in temp]\n",
    "  if len(lista3) > 0:\n",
    "      return lista3[0]\n",
    "  else:\n",
    "      return None\n",
    "\n",
    "if __name__ == \"__main__\":\n",
    "  lista1 = [4, 2, 0, 10]\n",
    "  lista2 = [5, 6, 3, 5]\n",
    "  x = indice_prim_valor_igual(lista1, lista2)\n",
    "  print(x)"
   ]
  }
 ],
 "metadata": {
  "kernelspec": {
   "display_name": "Python 3",
   "language": "python",
   "name": "python3"
  },
  "language_info": {
   "codemirror_mode": {
    "name": "ipython",
    "version": 3
   },
   "file_extension": ".py",
   "mimetype": "text/x-python",
   "name": "python",
   "nbconvert_exporter": "python",
   "pygments_lexer": "ipython3",
   "version": "3.7.6"
  }
 },
 "nbformat": 4,
 "nbformat_minor": 4
}
